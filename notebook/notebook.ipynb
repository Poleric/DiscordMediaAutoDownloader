{
 "cells": [
  {
   "cell_type": "code",
   "execution_count": 9,
   "id": "initial_id",
   "metadata": {
    "collapsed": true,
    "ExecuteTime": {
     "end_time": "2024-02-16T14:02:19.028488832Z",
     "start_time": "2024-02-16T14:02:18.984297043Z"
    }
   },
   "outputs": [],
   "source": [
    "from media_downloader import Twitter, Pixiv\n",
    "import json\n",
    "beautify = lambda d: json.dumps(d, indent=4)"
   ]
  },
  {
   "cell_type": "code",
   "outputs": [
    {
     "name": "stdout",
     "output_type": "stream",
     "text": [
      "GGXaiY-a0AAdQpU.jpg {\n",
      "    \"description\": \"AI\\u3067\\u306f\\u306a\\u3044\\u3067\\u3059 https://t.co/kle9lE6B3G\",\n",
      "    \"webpage_url\": \"https://twitter.com/jizell_7/status/1758063989635137782\",\n",
      "    \"source_url\": \"https://pbs.twimg.com/media/GGXaiY-a0AAdQpU.jpg?name=large\",\n",
      "    \"created_at\": \"2024-02-15T09:41:33.000Z\",\n",
      "    \"artist\": {\n",
      "        \"name\": \"\\ud835\\uddf7\\ud835\\uddf6\\ud835\\ude07\\ud835\\uddf2\\ud835\\uddf9\\ud835\\uddf9\",\n",
      "        \"display_name\": \"jizell_7\",\n",
      "        \"webpage_url\": \"https://twitter.com/\\ud835\\uddf7\\ud835\\uddf6\\ud835\\ude07\\ud835\\uddf2\\ud835\\uddf9\\ud835\\uddf9\"\n",
      "    },\n",
      "    \"keywords\": []\n",
      "}\n",
      "\n",
      "131BwET0wsafYI7Z.m3u8 {\n",
      "    \"description\": \"AI\\u3067\\u306f\\u306a\\u3044\\u3067\\u3059 https://t.co/kle9lE6B3G\",\n",
      "    \"webpage_url\": \"https://twitter.com/jizell_7/status/1758063989635137782\",\n",
      "    \"source_url\": \"https://video.twimg.com/amplify_video/1758051513942020096/pl/131BwET0wsafYI7Z.m3u8?tag=14&container=cmaf\",\n",
      "    \"created_at\": \"2024-02-15T09:41:33.000Z\",\n",
      "    \"artist\": {\n",
      "        \"name\": \"\\ud835\\uddf7\\ud835\\uddf6\\ud835\\ude07\\ud835\\uddf2\\ud835\\uddf9\\ud835\\uddf9\",\n",
      "        \"display_name\": \"jizell_7\",\n",
      "        \"webpage_url\": \"https://twitter.com/\\ud835\\uddf7\\ud835\\uddf6\\ud835\\ude07\\ud835\\uddf2\\ud835\\uddf9\\ud835\\uddf9\"\n",
      "    },\n",
      "    \"keywords\": []\n",
      "}\n"
     ]
    }
   ],
   "source": [
    "async def twitter_download():\n",
    "    async with Twitter() as twitter:\n",
    "        async for media in twitter.get_all_media(\"https://twitter.com/jizell_7/status/1758063989635137782\"):\n",
    "            print(media.filename, beautify(media.tags))\n",
    "            print()\n",
    "\n",
    "await twitter_download()"
   ],
   "metadata": {
    "collapsed": false,
    "ExecuteTime": {
     "end_time": "2024-02-16T14:02:28.283865739Z",
     "start_time": "2024-02-16T14:02:19.648313817Z"
    }
   },
   "id": "2d821a3ec487a615",
   "execution_count": 10
  },
  {
   "cell_type": "code",
   "outputs": [
    {
     "name": "stdout",
     "output_type": "stream",
     "text": [
      "97138089_p0.png {\n",
      "    \"title\": \"Sea with little girl\\ud83c\\udf0a\\ud83c\\udfdd\\ud83c\\udfd6\",\n",
      "    \"description\": \"<strong><a href=\\\"https://twitter.com/Naniii_0_o\\\" target=\\\"_blank\\\">twitter/Naniii_0_o</a></strong>\",\n",
      "    \"webpage_url\": \"https://www.pixiv.net/en/artworks/97138089\",\n",
      "    \"source_url\": \"https://i.pximg.net/img-original/img/2022/03/24/14/18/36/97138089_p0.png\",\n",
      "    \"created_at\": \"2022-03-24T14:18:36+09:00\",\n",
      "    \"artist\": {\n",
      "        \"name\": \"user_tszc7435\",\n",
      "        \"display_name\": \"SHINOBU\",\n",
      "        \"webpage_url\": \"https://www.pixiv.net/users/34771786\"\n",
      "    },\n",
      "    \"keywords\": [\n",
      "        \"BlueArchive\",\n",
      "        \"\\u30d6\\u30eb\\u30a2\\u30ab\",\n",
      "        \"\\u30d6\\u30eb\\u30fc\\u30a2\\u30fc\\u30ab\\u30a4\\u30d6\",\n",
      "        \"\\u30d2\\u30d5\\u30a2\\u30ba\",\n",
      "        \"\\u767d\\u6d32\\u30a2\\u30ba\\u30b5\",\n",
      "        \"\\u30d6\\u30eb\\u30fc\\u30a2\\u30fc\\u30ab\\u30a4\\u30d61000users\\u5165\\u308a\",\n",
      "        \"\\u963f\\u6148\\u8c37\\u30d2\\u30d5\\u30df\",\n",
      "        \"\\u6c34\\u7740\",\n",
      "        \"\\u30d6\\u30eb\\u30fc\\u30a2\\u30fc\\u30ab\\u30a4\\u30d65000users\\u5165\\u308a\"\n",
      "    ]\n",
      "}\n"
     ]
    }
   ],
   "source": [
    "async def pixiv_download():\n",
    "    async with Pixiv() as pixiv:\n",
    "        async for media in pixiv.get_all_media(\"https://www.pixiv.net/en/artworks/97138089\"):\n",
    "            print(media.filename, beautify(media.tags))\n",
    "            print()\n",
    "            \n",
    "await pixiv_download()"
   ],
   "metadata": {
    "collapsed": false,
    "ExecuteTime": {
     "end_time": "2024-02-16T14:02:30.230139011Z",
     "start_time": "2024-02-16T14:02:28.240650934Z"
    }
   },
   "id": "9d2d26b4a46541c5",
   "execution_count": 11
  },
  {
   "cell_type": "code",
   "outputs": [],
   "source": [],
   "metadata": {
    "collapsed": false
   },
   "id": "c47a30e505a043a2"
  }
 ],
 "metadata": {
  "kernelspec": {
   "display_name": "Python 3",
   "language": "python",
   "name": "python3"
  },
  "language_info": {
   "codemirror_mode": {
    "name": "ipython",
    "version": 2
   },
   "file_extension": ".py",
   "mimetype": "text/x-python",
   "name": "python",
   "nbconvert_exporter": "python",
   "pygments_lexer": "ipython2",
   "version": "2.7.6"
  }
 },
 "nbformat": 4,
 "nbformat_minor": 5
}
